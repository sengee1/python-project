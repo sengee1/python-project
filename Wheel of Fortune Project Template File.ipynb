{
 "cells": [
  {
   "cell_type": "markdown",
   "id": "51d53c99",
   "metadata": {},
   "source": [
    "Group member names: Student X, Student Y, Student Z\n",
    "\n",
    "Below is the distribution of work among the group members:\n",
    "- function generate_word() is done by Mr Wang\n",
    "- function A is done by Student X\n",
    "- function B is done by Student Y and Z\n",
    "- ...\n",
    "- main code body is done by Student X"
   ]
  },
  {
   "cell_type": "code",
   "execution_count": 12,
   "id": "572ddb28",
   "metadata": {},
   "outputs": [
    {
     "name": "stdout",
     "output_type": "stream",
     "text": [
      "MAP\n"
     ]
    }
   ],
   "source": [
    "def generate_word():\n",
    "    \n",
    "    import csv\n",
    "    import random\n",
    "    \n",
    "    with open(\"Wordle 4K Database.csv\") as csvfile:\n",
    "        data = csv.reader(csvfile)\n",
    "        list_of_words =[]\n",
    "        for row in data:\n",
    "            list_of_words.extend(row)\n",
    "    \n",
    "    random_word = random.choice(list_of_words).upper()\n",
    "    \n",
    "    return random_word\n",
    "\n",
    "secret_word = generate_word()\n",
    "print(secret_word)"
   ]
  },
  {
   "cell_type": "code",
   "execution_count": null,
   "id": "7ef9e924",
   "metadata": {},
   "outputs": [],
   "source": [
    "# function to set the initial values at the start of the game"
   ]
  },
  {
   "cell_type": "code",
   "execution_count": null,
   "id": "54cfa6ef",
   "metadata": {},
   "outputs": [],
   "source": [
    "# function to display information on the screen in each turn"
   ]
  },
  {
   "cell_type": "code",
   "execution_count": null,
   "id": "dd480ebb",
   "metadata": {},
   "outputs": [],
   "source": [
    "# function to prompt the player to make a guess until it is valid in each turn"
   ]
  },
  {
   "cell_type": "code",
   "execution_count": null,
   "id": "0e437029",
   "metadata": {},
   "outputs": [],
   "source": [
    "# function to transit the original state to a new state based on a valid guess"
   ]
  },
  {
   "cell_type": "code",
   "execution_count": null,
   "id": "3a63ff30",
   "metadata": {},
   "outputs": [],
   "source": [
    "# function to test whether the game ends"
   ]
  },
  {
   "cell_type": "code",
   "execution_count": null,
   "id": "fe87216e",
   "metadata": {},
   "outputs": [],
   "source": [
    "# the main code body"
   ]
  }
 ],
 "metadata": {
  "kernelspec": {
   "display_name": "Python 3 (ipykernel)",
   "language": "python",
   "name": "python3"
  },
  "language_info": {
   "codemirror_mode": {
    "name": "ipython",
    "version": 3
   },
   "file_extension": ".py",
   "mimetype": "text/x-python",
   "name": "python",
   "nbconvert_exporter": "python",
   "pygments_lexer": "ipython3",
   "version": "3.10.2"
  }
 },
 "nbformat": 4,
 "nbformat_minor": 5
}
